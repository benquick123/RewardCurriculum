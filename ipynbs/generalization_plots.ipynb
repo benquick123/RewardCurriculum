{
 "cells": [
  {
   "cell_type": "code",
   "execution_count": 2,
   "metadata": {},
   "outputs": [],
   "source": [
    "import sys\n",
    "sys.path.append(\"/home/benjamin/RewardCurriculum/\")\n",
    "\n",
    "import os\n",
    "os.system(\"export MKL_SERVICE_FORCE_INTEL=1\")\n",
    "\n",
    "import gymnasium as gym\n",
    "from collections import defaultdict\n",
    "import panda_gym\n",
    "from stable_baselines3.common.vec_env import DummyVecEnv\n",
    "import json\n",
    "import numpy as np\n",
    "import tqdm\n",
    "\n",
    "import os\n",
    "from utils.configs import get_config\n",
    "from utils.env_wrappers import make_vec_env, get_env\n",
    "from argparse import Namespace\n",
    "import cv2\n",
    "from IPython.display import HTML\n",
    "import matplotlib.pyplot as plt\n",
    "from matplotlib.colors import LinearSegmentedColormap"
   ]
  },
  {
   "cell_type": "code",
   "execution_count": 3,
   "metadata": {},
   "outputs": [],
   "source": [
    "import matplotlib.font_manager as font_manager\n",
    "\n",
    "font_dir = ['.']\n",
    "for font in font_manager.findSystemFonts(font_dir):\n",
    "    font_manager.fontManager.addfont(font)"
   ]
  },
  {
   "cell_type": "code",
   "execution_count": 4,
   "metadata": {},
   "outputs": [],
   "source": [
    "def rollout_episodes(env, learner, n_episodes=1, desired_position=None, task=None):\n",
    "    if task is None:\n",
    "        weights = np.zeros((1, learner.scheduler.reward_dim))\n",
    "        weights[:, -1] = 1\n",
    "\n",
    "    positions = []\n",
    "    rewards = []\n",
    "    for _ in range(n_episodes):\n",
    "        terminated = False\n",
    "        obs = env.reset()\n",
    "        if desired_position is not None:\n",
    "            position = env.get_attr(\"task\")[0].get_goal()\n",
    "            position[3:] = desired_position\n",
    "            env.env_method(\"set_goal\", position)\n",
    "            obs[\"desired_goal\"] = position\n",
    "        \n",
    "        if desired_position is not None:\n",
    "            positions.append(desired_position)\n",
    "        else:\n",
    "            positions.append(obs[\"desired_goal\"][:, 3:])\n",
    "            \n",
    "        while not terminated:            \n",
    "            act = learner.predict(obs, weights=weights)[0]\n",
    "            obs, reward, terminated, info = env.step(act)\n",
    "\n",
    "        rewards.append(reward)\n",
    "        \n",
    "    return rewards, positions"
   ]
  },
  {
   "cell_type": "code",
   "execution_count": 13,
   "metadata": {},
   "outputs": [],
   "source": [
    "os.chdir(\"/home/benjamin/RewardCurriculum\")\n",
    "results_dir = \"/home/benjamin/RewardCurriculum/results/panda_pick_and_place_long\"\n",
    "\n",
    "x_coords = np.arange(-0.15, 0.16, 0.02)\n",
    "x_dict = {np.round(value, 2): index for index, value in enumerate(x_coords)}\n",
    "y_coords = np.arange(-0.15, 0.16, 0.02)\n",
    "y_dict = {np.round(value, 2): index for index, value in enumerate(y_coords)}\n",
    "z_coords = np.arange(0.02, 0.21, 0.02)\n",
    "z_dict = {np.round(value, 2): index for index, value in enumerate(z_coords)}\n",
    "\n",
    "X, Y, Z = np.meshgrid(x_coords, y_coords, z_coords)\n",
    "desired_positions = np.stack([X, Y, Z], axis=-1).reshape(-1, 3)"
   ]
  },
  {
   "cell_type": "code",
   "execution_count": 22,
   "metadata": {},
   "outputs": [
    {
     "name": "stderr",
     "output_type": "stream",
     "text": [
      "  0%|          | 0/31 [00:00<?, ?it/s]"
     ]
    },
    {
     "name": "stdout",
     "output_type": "stream",
     "text": [
      "argv[0]=--background_color_red=0.8745098114013672\n",
      "argv[1]=--background_color_green=0.21176470816135406\n",
      "argv[2]=--background_color_blue=0.1764705926179886\n"
     ]
    },
    {
     "name": "stderr",
     "output_type": "stream",
     "text": [
      "/home/benjamin/miniconda3/envs/rew_curr/lib/python3.10/site-packages/gymnasium/utils/passive_env_checker.py:164: UserWarning: \u001b[33mWARN: The obs returned by the `reset()` method was expecting numpy array dtype to be float32, actual type: float64\u001b[0m\n",
      "  logger.warn(\n",
      "/home/benjamin/miniconda3/envs/rew_curr/lib/python3.10/site-packages/gymnasium/utils/passive_env_checker.py:188: UserWarning: \u001b[33mWARN: The obs returned by the `reset()` method is not within the observation space.\u001b[0m\n",
      "  logger.warn(f\"{pre} is not within the observation space.\")\n",
      "/home/benjamin/miniconda3/envs/rew_curr/lib/python3.10/site-packages/gymnasium/utils/passive_env_checker.py:164: UserWarning: \u001b[33mWARN: The obs returned by the `step()` method was expecting numpy array dtype to be float32, actual type: float64\u001b[0m\n",
      "  logger.warn(\n",
      "/home/benjamin/miniconda3/envs/rew_curr/lib/python3.10/site-packages/gymnasium/utils/passive_env_checker.py:188: UserWarning: \u001b[33mWARN: The obs returned by the `step()` method is not within the observation space.\u001b[0m\n",
      "  logger.warn(f\"{pre} is not within the observation space.\")\n",
      "/home/benjamin/miniconda3/envs/rew_curr/lib/python3.10/site-packages/gymnasium/utils/passive_env_checker.py:275: UserWarning: \u001b[33mWARN: The reward returned by `step()` must be a float, int, np.integer or np.floating, actual type: <class 'numpy.ndarray'>\u001b[0m\n",
      "  logger.warn(\n",
      "100%|██████████| 2560/2560 [03:33<00:00, 11.99it/s]\n",
      "  3%|▎         | 1/31 [03:35<1:47:55, 215.85s/it]"
     ]
    },
    {
     "name": "stdout",
     "output_type": "stream",
     "text": [
      "argv[0]=--background_color_red=0.8745098114013672\n",
      "argv[1]=--background_color_green=0.21176470816135406\n",
      "argv[2]=--background_color_blue=0.1764705926179886\n"
     ]
    },
    {
     "name": "stderr",
     "output_type": "stream",
     "text": [
      "100%|██████████| 2560/2560 [06:05<00:00,  7.00it/s]\n",
      "  6%|▋         | 2/31 [09:43<2:27:36, 305.39s/it]"
     ]
    },
    {
     "name": "stdout",
     "output_type": "stream",
     "text": [
      "argv[0]=--background_color_red=0.8745098114013672\n",
      "argv[1]=--background_color_green=0.21176470816135406\n",
      "argv[2]=--background_color_blue=0.1764705926179886\n"
     ]
    },
    {
     "name": "stderr",
     "output_type": "stream",
     "text": [
      "100%|██████████| 2560/2560 [06:15<00:00,  6.82it/s]\n",
      " 10%|▉         | 3/31 [16:02<2:38:01, 338.63s/it]"
     ]
    },
    {
     "name": "stdout",
     "output_type": "stream",
     "text": [
      "argv[0]=--background_color_red=0.8745098114013672\n",
      "argv[1]=--background_color_green=0.21176470816135406\n",
      "argv[2]=--background_color_blue=0.1764705926179886\n"
     ]
    },
    {
     "name": "stderr",
     "output_type": "stream",
     "text": [
      "100%|██████████| 2560/2560 [03:37<00:00, 11.78it/s]\n",
      " 13%|█▎        | 4/31 [19:42<2:11:23, 291.99s/it]"
     ]
    },
    {
     "name": "stdout",
     "output_type": "stream",
     "text": [
      "argv[0]=--background_color_red=0.8745098114013672\n",
      "argv[1]=--background_color_green=0.21176470816135406\n",
      "argv[2]=--background_color_blue=0.1764705926179886\n"
     ]
    },
    {
     "name": "stderr",
     "output_type": "stream",
     "text": [
      "100%|██████████| 2560/2560 [06:08<00:00,  6.95it/s]\n",
      " 16%|█▌        | 5/31 [25:53<2:18:50, 320.40s/it]"
     ]
    },
    {
     "name": "stdout",
     "output_type": "stream",
     "text": [
      "argv[0]=--background_color_red=0.8745098114013672\n",
      "argv[1]=--background_color_green=0.21176470816135406\n",
      "argv[2]=--background_color_blue=0.1764705926179886\n"
     ]
    },
    {
     "name": "stderr",
     "output_type": "stream",
     "text": [
      "100%|██████████| 2560/2560 [03:33<00:00, 12.00it/s]\n",
      " 19%|█▉        | 6/31 [29:30<1:58:49, 285.16s/it]"
     ]
    },
    {
     "name": "stdout",
     "output_type": "stream",
     "text": [
      "argv[0]=--background_color_red=0.8745098114013672\n",
      "argv[1]=--background_color_green=0.21176470816135406\n",
      "argv[2]=--background_color_blue=0.1764705926179886\n"
     ]
    },
    {
     "name": "stderr",
     "output_type": "stream",
     "text": [
      "100%|██████████| 2560/2560 [05:59<00:00,  7.12it/s]\n",
      " 23%|██▎       | 7/31 [35:32<2:04:13, 310.55s/it]"
     ]
    },
    {
     "name": "stdout",
     "output_type": "stream",
     "text": [
      "argv[0]=--background_color_red=0.8745098114013672\n",
      "argv[1]=--background_color_green=0.21176470816135406\n",
      "argv[2]=--background_color_blue=0.1764705926179886\n"
     ]
    },
    {
     "name": "stderr",
     "output_type": "stream",
     "text": [
      "100%|██████████| 2560/2560 [05:49<00:00,  7.32it/s]\n",
      " 26%|██▌       | 8/31 [41:25<2:04:06, 323.78s/it]"
     ]
    },
    {
     "name": "stdout",
     "output_type": "stream",
     "text": [
      "argv[0]=--background_color_red=0.8745098114013672\n",
      "argv[1]=--background_color_green=0.21176470816135406\n",
      "argv[2]=--background_color_blue=0.1764705926179886\n"
     ]
    },
    {
     "name": "stderr",
     "output_type": "stream",
     "text": [
      "100%|██████████| 2560/2560 [05:39<00:00,  7.54it/s]\n",
      " 29%|██▉       | 9/31 [47:08<2:00:56, 329.84s/it]"
     ]
    },
    {
     "name": "stdout",
     "output_type": "stream",
     "text": [
      "argv[0]=--background_color_red=0.8745098114013672\n",
      "argv[1]=--background_color_green=0.21176470816135406\n",
      "argv[2]=--background_color_blue=0.1764705926179886\n"
     ]
    },
    {
     "name": "stderr",
     "output_type": "stream",
     "text": [
      "100%|██████████| 2560/2560 [04:11<00:00, 10.19it/s]\n",
      " 32%|███▏      | 10/31 [51:22<1:47:16, 306.52s/it]"
     ]
    },
    {
     "name": "stdout",
     "output_type": "stream",
     "text": [
      "argv[0]=--background_color_red=0.8745098114013672\n",
      "argv[1]=--background_color_green=0.21176470816135406\n",
      "argv[2]=--background_color_blue=0.1764705926179886\n"
     ]
    },
    {
     "name": "stderr",
     "output_type": "stream",
     "text": [
      "100%|██████████| 2560/2560 [03:34<00:00, 11.91it/s]\n",
      " 35%|███▌      | 11/31 [55:00<1:33:08, 279.44s/it]"
     ]
    },
    {
     "name": "stdout",
     "output_type": "stream",
     "text": [
      "argv[0]=--background_color_red=0.8745098114013672\n",
      "argv[1]=--background_color_green=0.21176470816135406\n",
      "argv[2]=--background_color_blue=0.1764705926179886\n"
     ]
    },
    {
     "name": "stderr",
     "output_type": "stream",
     "text": [
      "/home/benjamin/miniconda3/envs/rew_curr/lib/python3.10/site-packages/gymnasium/utils/passive_env_checker.py:164: UserWarning: \u001b[33mWARN: The obs returned by the `reset()` method was expecting numpy array dtype to be float32, actual type: float64\u001b[0m\n",
      "  logger.warn(\n",
      "/home/benjamin/miniconda3/envs/rew_curr/lib/python3.10/site-packages/gymnasium/utils/passive_env_checker.py:188: UserWarning: \u001b[33mWARN: The obs returned by the `reset()` method is not within the observation space.\u001b[0m\n",
      "  logger.warn(f\"{pre} is not within the observation space.\")\n",
      "/home/benjamin/miniconda3/envs/rew_curr/lib/python3.10/site-packages/gymnasium/utils/passive_env_checker.py:164: UserWarning: \u001b[33mWARN: The obs returned by the `step()` method was expecting numpy array dtype to be float32, actual type: float64\u001b[0m\n",
      "  logger.warn(\n",
      "/home/benjamin/miniconda3/envs/rew_curr/lib/python3.10/site-packages/gymnasium/utils/passive_env_checker.py:188: UserWarning: \u001b[33mWARN: The obs returned by the `step()` method is not within the observation space.\u001b[0m\n",
      "  logger.warn(f\"{pre} is not within the observation space.\")\n",
      "/home/benjamin/miniconda3/envs/rew_curr/lib/python3.10/site-packages/gymnasium/utils/passive_env_checker.py:275: UserWarning: \u001b[33mWARN: The reward returned by `step()` must be a float, int, np.integer or np.floating, actual type: <class 'numpy.ndarray'>\u001b[0m\n",
      "  logger.warn(\n",
      "100%|██████████| 2560/2560 [03:33<00:00, 11.97it/s]\n",
      " 39%|███▊      | 12/31 [58:37<1:22:27, 260.39s/it]"
     ]
    },
    {
     "name": "stdout",
     "output_type": "stream",
     "text": [
      "argv[0]=--background_color_red=0.8745098114013672\n",
      "argv[1]=--background_color_green=0.21176470816135406\n",
      "argv[2]=--background_color_blue=0.1764705926179886\n"
     ]
    },
    {
     "name": "stderr",
     "output_type": "stream",
     "text": [
      "100%|██████████| 2560/2560 [06:08<00:00,  6.94it/s]\n",
      " 45%|████▌     | 14/31 [1:04:50<1:04:01, 225.95s/it]"
     ]
    },
    {
     "name": "stdout",
     "output_type": "stream",
     "text": [
      "argv[0]=--background_color_red=0.8745098114013672\n",
      "argv[1]=--background_color_green=0.21176470816135406\n",
      "argv[2]=--background_color_blue=0.1764705926179886\n"
     ]
    },
    {
     "name": "stderr",
     "output_type": "stream",
     "text": [
      "100%|██████████| 2560/2560 [05:47<00:00,  7.37it/s]\n",
      " 48%|████▊     | 15/31 [1:10:40<1:08:30, 256.92s/it]"
     ]
    },
    {
     "name": "stdout",
     "output_type": "stream",
     "text": [
      "argv[0]=--background_color_red=0.8745098114013672\n",
      "argv[1]=--background_color_green=0.21176470816135406\n",
      "argv[2]=--background_color_blue=0.1764705926179886\n"
     ]
    },
    {
     "name": "stderr",
     "output_type": "stream",
     "text": [
      "100%|██████████| 2560/2560 [06:06<00:00,  6.99it/s]\n",
      " 52%|█████▏    | 16/31 [1:16:49<1:11:38, 286.55s/it]"
     ]
    },
    {
     "name": "stdout",
     "output_type": "stream",
     "text": [
      "argv[0]=--background_color_red=0.8745098114013672\n",
      "argv[1]=--background_color_green=0.21176470816135406\n",
      "argv[2]=--background_color_blue=0.1764705926179886\n"
     ]
    },
    {
     "name": "stderr",
     "output_type": "stream",
     "text": [
      "100%|██████████| 2560/2560 [04:00<00:00, 10.64it/s]\n",
      " 55%|█████▍    | 17/31 [1:20:53<1:04:06, 274.75s/it]"
     ]
    },
    {
     "name": "stdout",
     "output_type": "stream",
     "text": [
      "argv[0]=--background_color_red=0.8745098114013672\n",
      "argv[1]=--background_color_green=0.21176470816135406\n",
      "argv[2]=--background_color_blue=0.1764705926179886\n"
     ]
    },
    {
     "name": "stderr",
     "output_type": "stream",
     "text": [
      "100%|██████████| 2560/2560 [06:05<00:00,  7.01it/s]\n",
      " 58%|█████▊    | 18/31 [1:27:02<1:05:15, 301.19s/it]"
     ]
    },
    {
     "name": "stdout",
     "output_type": "stream",
     "text": [
      "argv[0]=--background_color_red=0.8745098114013672\n",
      "argv[1]=--background_color_green=0.21176470816135406\n",
      "argv[2]=--background_color_blue=0.1764705926179886\n"
     ]
    },
    {
     "name": "stderr",
     "output_type": "stream",
     "text": [
      "100%|██████████| 2560/2560 [03:38<00:00, 11.74it/s]\n",
      " 61%|██████▏   | 19/31 [1:30:43<55:38, 278.24s/it]  "
     ]
    },
    {
     "name": "stdout",
     "output_type": "stream",
     "text": [
      "argv[0]=--background_color_red=0.8745098114013672\n",
      "argv[1]=--background_color_green=0.21176470816135406\n",
      "argv[2]=--background_color_blue=0.1764705926179886\n"
     ]
    },
    {
     "name": "stderr",
     "output_type": "stream",
     "text": [
      "100%|██████████| 2560/2560 [03:34<00:00, 11.93it/s]\n",
      " 65%|██████▍   | 20/31 [1:34:21<47:48, 260.80s/it]"
     ]
    },
    {
     "name": "stdout",
     "output_type": "stream",
     "text": [
      "argv[0]=--background_color_red=0.8745098114013672\n",
      "argv[1]=--background_color_green=0.21176470816135406\n",
      "argv[2]=--background_color_blue=0.1764705926179886\n"
     ]
    },
    {
     "name": "stderr",
     "output_type": "stream",
     "text": [
      "100%|██████████| 2560/2560 [06:06<00:00,  6.99it/s]\n",
      " 68%|██████▊   | 21/31 [1:40:30<48:45, 292.53s/it]"
     ]
    },
    {
     "name": "stdout",
     "output_type": "stream",
     "text": [
      "argv[0]=--background_color_red=0.8745098114013672\n",
      "argv[1]=--background_color_green=0.21176470816135406\n",
      "argv[2]=--background_color_blue=0.1764705926179886\n"
     ]
    },
    {
     "name": "stderr",
     "output_type": "stream",
     "text": [
      "100%|██████████| 2560/2560 [03:34<00:00, 11.93it/s]\n",
      " 71%|███████   | 22/31 [1:44:08<40:35, 270.59s/it]"
     ]
    },
    {
     "name": "stdout",
     "output_type": "stream",
     "text": [
      "argv[0]=--background_color_red=0.8745098114013672\n",
      "argv[1]=--background_color_green=0.21176470816135406\n",
      "argv[2]=--background_color_blue=0.1764705926179886\n"
     ]
    },
    {
     "name": "stderr",
     "output_type": "stream",
     "text": [
      "100%|██████████| 2560/2560 [04:31<00:00,  9.44it/s]\n",
      " 74%|███████▍  | 23/31 [1:48:42<36:12, 271.60s/it]"
     ]
    },
    {
     "name": "stdout",
     "output_type": "stream",
     "text": [
      "argv[0]=--background_color_red=0.8745098114013672\n",
      "argv[1]=--background_color_green=0.21176470816135406\n",
      "argv[2]=--background_color_blue=0.1764705926179886\n"
     ]
    },
    {
     "name": "stderr",
     "output_type": "stream",
     "text": [
      "100%|██████████| 2560/2560 [03:38<00:00, 11.73it/s]\n",
      " 77%|███████▋  | 24/31 [1:52:24<29:57, 256.79s/it]"
     ]
    },
    {
     "name": "stdout",
     "output_type": "stream",
     "text": [
      "argv[0]=--background_color_red=0.8745098114013672\n",
      "argv[1]=--background_color_green=0.21176470816135406\n",
      "argv[2]=--background_color_blue=0.1764705926179886\n"
     ]
    },
    {
     "name": "stderr",
     "output_type": "stream",
     "text": [
      "100%|██████████| 2560/2560 [04:03<00:00, 10.51it/s]\n",
      " 81%|████████  | 25/31 [1:56:30<25:21, 253.66s/it]"
     ]
    },
    {
     "name": "stdout",
     "output_type": "stream",
     "text": [
      "argv[0]=--background_color_red=0.8745098114013672\n",
      "argv[1]=--background_color_green=0.21176470816135406\n",
      "argv[2]=--background_color_blue=0.1764705926179886\n"
     ]
    },
    {
     "name": "stderr",
     "output_type": "stream",
     "text": [
      "100%|██████████| 2560/2560 [06:04<00:00,  7.02it/s]\n",
      " 84%|████████▍ | 26/31 [2:02:39<23:59, 287.93s/it]"
     ]
    },
    {
     "name": "stdout",
     "output_type": "stream",
     "text": [
      "argv[0]=--background_color_red=0.8745098114013672\n",
      "argv[1]=--background_color_green=0.21176470816135406\n",
      "argv[2]=--background_color_blue=0.1764705926179886\n"
     ]
    },
    {
     "name": "stderr",
     "output_type": "stream",
     "text": [
      "100%|██████████| 2560/2560 [03:35<00:00, 11.89it/s]\n",
      " 87%|████████▋ | 27/31 [2:06:17<17:48, 267.21s/it]"
     ]
    },
    {
     "name": "stdout",
     "output_type": "stream",
     "text": [
      "argv[0]=--background_color_red=0.8745098114013672\n",
      "argv[1]=--background_color_green=0.21176470816135406\n",
      "argv[2]=--background_color_blue=0.1764705926179886\n"
     ]
    },
    {
     "name": "stderr",
     "output_type": "stream",
     "text": [
      "100%|██████████| 2560/2560 [03:34<00:00, 11.96it/s]\n",
      " 90%|█████████ | 28/31 [2:09:55<12:36, 252.32s/it]"
     ]
    },
    {
     "name": "stdout",
     "output_type": "stream",
     "text": [
      "argv[0]=--background_color_red=0.8745098114013672\n",
      "argv[1]=--background_color_green=0.21176470816135406\n",
      "argv[2]=--background_color_blue=0.1764705926179886\n"
     ]
    },
    {
     "name": "stderr",
     "output_type": "stream",
     "text": [
      "100%|██████████| 2560/2560 [03:35<00:00, 11.85it/s]\n",
      " 94%|█████████▎| 29/31 [2:13:34<08:04, 242.28s/it]"
     ]
    },
    {
     "name": "stdout",
     "output_type": "stream",
     "text": [
      "argv[0]=--background_color_red=0.8745098114013672\n",
      "argv[1]=--background_color_green=0.21176470816135406\n",
      "argv[2]=--background_color_blue=0.1764705926179886\n"
     ]
    },
    {
     "name": "stderr",
     "output_type": "stream",
     "text": [
      "100%|██████████| 2560/2560 [03:34<00:00, 11.93it/s]\n",
      " 97%|█████████▋| 30/31 [2:17:11<03:54, 234.90s/it]"
     ]
    },
    {
     "name": "stdout",
     "output_type": "stream",
     "text": [
      "argv[0]=--background_color_red=0.8745098114013672\n",
      "argv[1]=--background_color_green=0.21176470816135406\n",
      "argv[2]=--background_color_blue=0.1764705926179886\n"
     ]
    },
    {
     "name": "stderr",
     "output_type": "stream",
     "text": [
      "100%|██████████| 2560/2560 [03:34<00:00, 11.93it/s]\n",
      "100%|██████████| 31/31 [2:20:49<00:00, 272.56s/it]\n"
     ]
    }
   ],
   "source": [
    "generalization_results = defaultdict(list)\n",
    "\n",
    "for subfolder in tqdm.tqdm(os.listdir(results_dir)):\n",
    "    folder_path = os.path.join(results_dir, subfolder)\n",
    "    if not os.path.isdir(folder_path):\n",
    "        continue\n",
    "    \n",
    "    args = Namespace()\n",
    "    args.env_name = json.load(open(os.path.join(folder_path, \"config.json\"), \"r\"))[\"environment\"][\"env_name\"]\n",
    "    args.seed = json.load(open(os.path.join(folder_path, \"config.json\"), \"r\"))[\"seed\"]\n",
    "    args.config_path = os.path.join(folder_path, \"config_original.json\")\n",
    "    args.continue_from = None\n",
    "\n",
    "    remaining_args = [\"--environment.wrapper_kwargs.0.reward_threshold\", \"-0.05\"]\n",
    "    \n",
    "    config = get_config(args.config_path, args, remaining_args)\n",
    "    config[\"environment\"][\"wrappers\"] += [\"SingleTaskRewardWrapper\"]\n",
    "    config[\"environment\"][\"wrapper_kwargs\"] += [{}]\n",
    "    \n",
    "    make_env_fn = lambda wrappers, wrapper_kwargs, ignore_keyword=\"ignore\" : get_env(config[\"environment\"][\"env_name\"], wrappers=wrappers, wrapper_kwargs=wrapper_kwargs, ignore_keyword=ignore_keyword)\n",
    "    env = make_vec_env(make_env_fn, \n",
    "                        n_envs=config[\"environment\"][\"n_envs\"], \n",
    "                        env_kwargs={\"wrappers\": config[\"environment\"][\"wrappers\"], \"wrapper_kwargs\": config[\"environment\"][\"wrapper_kwargs\"]},\n",
    "                        monitor_kwargs={\"allow_early_resets\": True},\n",
    "                        seed=config[\"seed\"], vec_env_cls=DummyVecEnv)\n",
    "    \n",
    "    learner = config[\"learner_class\"].load(os.path.join(folder_path, \"evaluations\", \"best_model.zip\"), env=env)\n",
    "    \n",
    "    cl_type = str(config[\"learner_kwargs\"][\"scheduler_class\"]).split(\" \")[-1][2:-2]\n",
    "    \n",
    "    positions = []\n",
    "    rewards = []\n",
    "    for position in tqdm.tqdm(desired_positions):\n",
    "        reward, desired_position = rollout_episodes(env, learner, n_episodes=1, desired_position=position)\n",
    "        rewards += reward\n",
    "        positions += desired_position\n",
    "        \n",
    "    rewards = np.stack(rewards)\n",
    "    positions = np.stack(desired_positions)\n",
    "    \n",
    "    generalization_results[cl_type].append((rewards, positions))"
   ]
  },
  {
   "cell_type": "code",
   "execution_count": 23,
   "metadata": {},
   "outputs": [],
   "source": [
    "import pickle\n",
    "pickle.dump(generalization_results, open(os.path.join(results_dir, \"generalization_results.pkl\"), \"wb\"))"
   ]
  },
  {
   "cell_type": "code",
   "execution_count": 14,
   "metadata": {},
   "outputs": [
    {
     "data": {
      "text/plain": [
       "dict_keys(['Random', 'CurrOT', 'SetterSolver', 'ALPGMM', 'ManualTask', 'SACX'])"
      ]
     },
     "execution_count": 14,
     "metadata": {},
     "output_type": "execute_result"
    }
   ],
   "source": [
    "import pickle\n",
    "generalization_results = pickle.load(open(os.path.join(results_dir, \"generalization_results.pkl\"), \"rb\"))\n",
    "generalization_results.keys()"
   ]
  },
  {
   "cell_type": "code",
   "execution_count": 15,
   "metadata": {},
   "outputs": [
    {
     "name": "stdout",
     "output_type": "stream",
     "text": [
      "['Times New Roman']\n"
     ]
    },
    {
     "data": {
      "image/png": "[encoded data removed]",
      "text/plain": [
       "<Figure size 300x1000 with 3 Axes>"
      ]
     },
     "metadata": {},
     "output_type": "display_data"
    }
   ],
   "source": [
    "keys_to_plot = [\"SACX\"]\n",
    "plot_titles = {\n",
    "    \"SetterSolver\": \"Setter-Solver\",\n",
    "    \"CurrOT\": \"CurrOT\", \n",
    "    \"ALPGMM\": \"ALP-GMM\", \n",
    "    \"Random\": \"Random\", \n",
    "    \"ManualTask\": \"Main task\",\n",
    "    \"SACX\": \"SAC-Q\"\n",
    "}\n",
    "\n",
    "cmaps = {\n",
    "    \"SetterSolver\": LinearSegmentedColormap.from_list(\"SetterSolver\", [(1, 1, 1), (44 / 256, 160 / 256, 44 / 256)], N=128),\n",
    "    \"CurrOT\": LinearSegmentedColormap.from_list(\"CurrOT\", [(1, 1, 1), (255 / 256, 127 / 256, 14 / 256)], N=128),\n",
    "    \"ALPGMM\": LinearSegmentedColormap.from_list(\"ALPGMM\", [(1, 1, 1), (31 / 256, 119 / 256, 180 / 256)], N=128),\n",
    "    \"Random\": LinearSegmentedColormap.from_list(\"Random\", [(1, 1, 1), (140 / 256, 86 / 256, 75 / 256)], N=128),\n",
    "    \"ManualTask\": LinearSegmentedColormap.from_list(\"ManualTask\", [(1, 1, 1), (227 / 256, 119 / 256, 194 / 256)], N=128),\n",
    "    \"SACX\": LinearSegmentedColormap.from_list(\"SACX\", [(1, 1, 1), (148 / 256, 103 / 256, 189 / 256)], N=128)\n",
    "}\n",
    "\n",
    "print(plt.rcParams['font.family'])\n",
    "plt.rcParams['font.family'] = ['Times New Roman']\n",
    "\n",
    "fig, axes = plt.subplots(2, len(keys_to_plot), figsize=(3 * len(keys_to_plot), 10), sharex=True)\n",
    "axes = np.reshape(axes, (2, -1))\n",
    "\n",
    "for idx, cl_algo in enumerate(keys_to_plot):\n",
    "    reward_data = []\n",
    "    goal_data = []\n",
    "    for run in generalization_results[cl_algo]:\n",
    "        reward_data.append(run[0])\n",
    "        goal_data.append(run[1])\n",
    "        \n",
    "    reward_data = np.concatenate(reward_data, axis=0).reshape(len(reward_data), -1, 1).mean(axis=0)\n",
    "    goal_data = np.concatenate(goal_data, axis=0).reshape(len(goal_data), -1, 3).mean(axis=0)\n",
    "    \n",
    "    \n",
    "    unique_positions = np.unique(goal_data[:, :2], axis=0)\n",
    "    img = np.zeros(X.shape[:2])\n",
    "    for position in unique_positions:\n",
    "        mask = (goal_data[:, 0] == position[0]) * (goal_data[:, 1] == position[1])\n",
    "        img[x_dict[np.round(position[0], 2)], y_dict[np.round(position[1], 2)]] = reward_data[mask].mean()\n",
    "    \n",
    "    axes[0, idx].set_title(plot_titles[cl_algo])\n",
    "    axes[0, idx].imshow(img, origin='lower', extent=[-0.15, 0.15, -0.15, 0.15], cmap=cmaps[cl_algo])\n",
    "    \n",
    "    unique_positions = np.unique(goal_data[:, [0, 2]], axis=0)\n",
    "    img = np.zeros((X.shape[0], X.shape[2]))\n",
    "    for position in unique_positions:\n",
    "        mask = (goal_data[:, 0] == position[0]) * (goal_data[:, 2] == position[1])\n",
    "        img[x_dict[np.round(position[0], 2)], z_dict[np.round(position[1], 2)]] = reward_data[mask].mean()\n",
    "    im = axes[1, idx].imshow(img.T, origin='lower', extent=[-0.15, 0.15, 0.02, 0.2], cmap=cmaps[cl_algo])\n",
    "    axes[1, idx].set_xlabel(\"X-axis (m)\")\n",
    "    \n",
    "    plt.colorbar(im, ax=axes[1, idx], location=\"bottom\")\n",
    "    \n",
    "    if idx > 0:\n",
    "        axes[0, idx].get_yaxis().set_visible(False)\n",
    "        axes[1, idx].get_yaxis().set_visible(False)\n",
    "    else:\n",
    "        axes[0, idx].set_ylabel(\"Y-axis (m)\")\n",
    "        axes[1, idx].set_ylabel(\"Z-axis (m)\")\n",
    "    \n",
    "\n",
    "plt.tight_layout()\n",
    "plt.subplots_adjust(bottom=0.4, top=0.99, hspace=-0.31, wspace=0.17)\n",
    "plt.savefig(os.path.join(results_dir, \"generalization_results_sacx.pdf\"))\n",
    "plt.savefig(os.path.join(results_dir, \"generalization_results_sacx.svg\"))"
   ]
  }
 ],
 "metadata": {
  "kernelspec": {
   "display_name": "rew_curr",
   "language": "python",
   "name": "python3"
  },
  "language_info": {
   "codemirror_mode": {
    "name": "ipython",
    "version": 3
   },
   "file_extension": ".py",
   "mimetype": "text/x-python",
   "name": "python",
   "nbconvert_exporter": "python",
   "pygments_lexer": "ipython3",
   "version": "3.10.12"
  }
 },
 "nbformat": 4,
 "nbformat_minor": 2
}
